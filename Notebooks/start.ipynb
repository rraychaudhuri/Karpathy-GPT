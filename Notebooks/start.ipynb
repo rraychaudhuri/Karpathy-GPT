{
 "cells": [
  {
   "cell_type": "code",
   "execution_count": 1,
   "metadata": {},
   "outputs": [
    {
     "name": "stdout",
     "output_type": "stream",
     "text": [
      "Exception reporting mode: Plain\n",
      "e:\\Karpathy-GPT\n"
     ]
    }
   ],
   "source": [
    "import math\n",
    "import torch\n",
    "import torch.nn.functional as F\n",
    "import matplotlib.pyplot as plt\n",
    "\n",
    "# excetions show up normally\n",
    "%xmode plain\n",
    "\n",
    "# plots show up inline\n",
    "%matplotlib inline\n",
    "\n",
    "def get_device(cpu_only=True):\n",
    "    \"\"\"\n",
    "    Returns one of cuda / mps / cpu based on availablity\n",
    "    \"\"\"\n",
    "    if cpu_only is True:\n",
    "        return torch.device(\"cpu\")\n",
    "    elif torch.cuda.is_available():\n",
    "        return torch.device(\"cuda\")\n",
    "    elif torch.backends.mps.is_available():\n",
    "        return torch.device(\"mps\")\n",
    "    else:\n",
    "        return torch.device(\"cpu\")\n",
    "\n",
    "\n",
    "# Choose the default device\n",
    "cpu_only = False\n",
    "default_device = get_device(cpu_only)\n",
    "\n",
    "\n",
    "# Needed to import modules from src\n",
    "import sys\n",
    "sys.path.append('..')\n",
    "\n",
    "\n",
    "# Get Project Root (needed for reading config)\n",
    "import os\n",
    "projectRoot = os.path.dirname(os.getcwd())\n",
    "print(projectRoot)\n",
    "\n",
    "\n",
    "p = lambda X,s:print(f\"{s}:{X.shape}\")"
   ]
  },
  {
   "cell_type": "markdown",
   "metadata": {},
   "source": [
    "#### Load Data + Split + Create NN Input chunks"
   ]
  },
  {
   "cell_type": "code",
   "execution_count": 2,
   "metadata": {},
   "outputs": [
    {
     "name": "stdout",
     "output_type": "stream",
     "text": [
      "tensor([[31, 10,  0, 26, 53,  6,  1, 21],\n",
      "        [18,  1, 19, 13, 33, 26, 32, 10],\n",
      "        [ 1, 57, 39, 61,  1, 52, 53, 58],\n",
      "        [46, 43,  1, 57, 43, 50, 44, 57]], device='cuda:0')\n",
      "tensor([[10,  0, 26, 53,  6,  1, 21,  5],\n",
      "        [ 1, 19, 13, 33, 26, 32, 10,  0],\n",
      "        [57, 39, 61,  1, 52, 53, 58,  0],\n",
      "        [43,  1, 57, 43, 50, 44, 57, 39]], device='cuda:0')\n"
     ]
    }
   ],
   "source": [
    "from src.dataUtils import DataUtils\n",
    "from src.utils import get_chunk_from_data, estimateLoss\n",
    "\n",
    "\n",
    "dataUtils = DataUtils(projectRoot)\n",
    "dataUtils.initialize()\n",
    "\n",
    "train_boundary = math.floor(.8 * len(dataUtils.all_data))\n",
    "cv_boundary = math.floor(0.9 * len(dataUtils.all_data))\n",
    "\n",
    "train_data = dataUtils.all_data[:train_boundary]\n",
    "cv_data = dataUtils.all_data[train_boundary:cv_boundary]\n",
    "test_data = dataUtils.all_data[cv_boundary:]\n",
    "\n",
    "X, Y = get_chunk_from_data(train_data, batch_size=4, block_size=8, encode=dataUtils.encode)\n",
    "X, Y = X.to(default_device), Y.to(default_device)\n",
    "\n",
    "print(X)\n",
    "print(Y)"
   ]
  },
  {
   "cell_type": "markdown",
   "metadata": {},
   "source": [
    "#### NN Model with token + positional embedding"
   ]
  },
  {
   "cell_type": "code",
   "execution_count": 93,
   "metadata": {},
   "outputs": [
    {
     "name": "stdout",
     "output_type": "stream",
     "text": [
      "Loss: 4.491157622337341\n",
      "--------------------------Sample From Model (Before Training) --------------------------\n",
      " done,\n",
      "EMAL$OiXQCNumDNrZQ-s;?Fk\n",
      "rfRp;F-\n",
      "NTPvdEqhHCX,CxUTAdZuER3O;cJ?$-udYr33Vng-afcEXx$cjuqZlpdtKuOfcoWsSZTT;-.xiB.pHTcedJ  ,?Q\n",
      "a\n",
      "\n",
      "rVbA,cnJuWL\n",
      "lRPZLX\n",
      "g$cGwG\n",
      "Jucwo\n",
      "JcmHYQtj;TA$ddLQ3hEiOH;NCPhCTNwuqOlkq-lbaU3P-$QshEx3dPpqcNCI$?:T\n",
      "JxGgiZ-Tw$virwuicyJfEkKQQwadf;fec$$\n",
      "Gu\n",
      ",EEQQCp\n",
      "$Uo:\n",
      "O&3OW?fANQ\n",
      "L\n",
      "da\n",
      "O-NWsBl?qMZmf.XNTYNE3NuyxCiVAxYcaxfL?EHHZk,Ichywbj\n",
      "!qV-kIxfi\n",
      ";WlREHTAI$cySUMr.k$dBSPp?dx;jP\n",
      "LziM&hkHa\n",
      "qOFUCXm&X$fJt&E\n",
      "NZUfKEpfC;PhEETdb$MYmNI$L3yKj.w\n",
      "3qX-\n",
      "QQgv\n",
      "pC$Riwzcf?Y?;m\n",
      "qkXaUVbo.Dk\n",
      "uCJsmqj\n",
      "\n",
      "\n",
      "LALY\n",
      "Tp\n",
      "WEdIPW&,-TczdUjfPb33Tt.\n",
      "vNmkBSv\n",
      "XUbvAwf?k\n",
      ".GUxaULTZUP;kOZQIP:pKrEQY?EM;I\n",
      "3nzgNuqYcSsSEu&qXYR\n",
      "yG\n",
      "JWEzkyxRJcsjb\n",
      "3Pk&\n",
      "YNNEElTMdL\n",
      "k\n",
      "MjNRKYcrd3lcvNXpGOA:?w\n",
      "\n",
      "CkJ&$X?r-CxNsYqMAqTSJOyhkdcwXJ3pVTr3-JcukccJd:TLrqF-L\n",
      "QCXsH;-VdCNMH,YiPCzIdk\n",
      "LQpfQ P-qdx$LQrKQDNuL:$f&-'ykDufA\n",
      "xpiuapr;r\n",
      "IuXFctQcNBpyTZaCEc&\n",
      "$33.fDNYlUMfNx:Q&NdhaW.\n",
      "\n",
      "&$hIfTfYEJ\n",
      "ua\n",
      "fNs3'yMVskqG;owzTJ:$fSfYJ?lGl 3\n",
      "&\n",
      "$uOK:uNTfHM;r.CXTPl\n",
      "R$!QUVIjqLQF:d&sz&Qf&Oxt:J'NXo\n",
      "VNxkR'yE\n",
      "3N\n",
      "z\n",
      "dKt-p;-.?b;pTJ$\n",
      "zrpM$OqsY\n",
      "SUmfruyO,VWDAw-N\n",
      "N;w\n",
      "uZ3k.p\n",
      "aMiyMplZ\n",
      "$\n",
      "fBXzn&jh'i\n",
      "\n"
     ]
    }
   ],
   "source": [
    "from src.gpt.baseModel import BaseModel, BaseModel_V2, CustomModel\n",
    "\n",
    "# Hyperparameters\n",
    "batch_size = 4\n",
    "block_size = 8\n",
    "feature_dim = 32\n",
    "learning_rate = 1e-3\n",
    "\n",
    "# Derived Params\n",
    "len_vocab = len(dataUtils.vocab)\n",
    "output_dim = len_vocab\n",
    "\n",
    "# Measurements\n",
    "training_loss = []\n",
    "cv_loss = []\n",
    "\n",
    "# model = BaseModel(vocab_length=len(dataUtils.vocab), d=default_device)\n",
    "model = BaseModel_V2(len_vocab, feature_dim, len_vocab, block_size, d=default_device)\n",
    "optimizer = torch.optim.AdamW(model.parameters(),lr=learning_rate)\n",
    "\n",
    "# logits, loss = model(X, Y)\n",
    "print(f\"Loss: {estimateLoss(model, train_data, batch_size, block_size, dataUtils.encode, default_device)}\")\n",
    "\n",
    "print(\"--------------------------Sample From Model (Before Training) --------------------------\")\n",
    "retval = model.generate(X[2, :], max_characters=1000)\n",
    "print(dataUtils.decode(retval))\n"
   ]
  },
  {
   "cell_type": "markdown",
   "metadata": {},
   "source": [
    "#### Training Loop"
   ]
  },
  {
   "cell_type": "code",
   "execution_count": 94,
   "metadata": {},
   "outputs": [
    {
     "name": "stdout",
     "output_type": "stream",
     "text": [
      "Epoch:     0\tTraining Loss: 4.48736099\tValidation Loss: 4.50809967\n",
      "Epoch:  1000\tTraining Loss: 2.79922251\tValidation Loss: 2.79127031\n",
      "Epoch:  2000\tTraining Loss: 2.65341348\tValidation Loss: 2.67367165\n",
      "Epoch:  3000\tTraining Loss: 2.55509164\tValidation Loss: 2.59679087\n",
      "Epoch:  4000\tTraining Loss: 2.54809400\tValidation Loss: 2.59076322\n",
      "Epoch:  5000\tTraining Loss: 2.52928594\tValidation Loss: 2.56994538\n",
      "Epoch:  6000\tTraining Loss: 2.52505022\tValidation Loss: 2.56659513\n",
      "Epoch:  7000\tTraining Loss: 2.49187726\tValidation Loss: 2.54205757\n",
      "Epoch:  8000\tTraining Loss: 2.53547723\tValidation Loss: 2.52140021\n",
      "Epoch:  9000\tTraining Loss: 2.50165733\tValidation Loss: 2.53477237\n"
     ]
    }
   ],
   "source": [
    "epochs = 10000\n",
    "for epoch in range(epochs):\n",
    "\n",
    "    X, Y = get_chunk_from_data(train_data, batch_size=batch_size, block_size=block_size, encode=dataUtils.encode, d=default_device)\n",
    "    logits, loss = model(X, Y)\n",
    "\n",
    "    if epoch % 1000 == 0:\n",
    "        training_loss.append(estimateLoss(model, train_data, batch_size, block_size, dataUtils.encode, default_device))\n",
    "        cv_loss.append(estimateLoss(model, cv_data, batch_size, block_size, dataUtils.encode, default_device))\n",
    "        print(f\"Epoch:{epoch:6d}\\tTraining Loss: {training_loss[-1]:.8f}\\tValidation Loss: {cv_loss[-1]:.8f}\")\n",
    "\n",
    "    optimizer.zero_grad(set_to_none=True)\n",
    "    loss.backward()\n",
    "    optimizer.step()\n"
   ]
  },
  {
   "cell_type": "code",
   "execution_count": 95,
   "metadata": {},
   "outputs": [
    {
     "data": {
      "image/png": "[encoded data removed]",
      "text/plain": [
       "<Figure size 640x480 with 1 Axes>"
      ]
     },
     "metadata": {},
     "output_type": "display_data"
    }
   ],
   "source": [
    "plt.plot(training_loss, label=\"Train Loss\")\n",
    "plt.plot(cv_loss, label=\"Validation Loss\")\n",
    "plt.legend(loc=\"upper right\")\n",
    "plt.show()"
   ]
  },
  {
   "cell_type": "markdown",
   "metadata": {},
   "source": [
    "#### Sample from Model after Training"
   ]
  },
  {
   "cell_type": "code",
   "execution_count": 96,
   "metadata": {},
   "outputs": [
    {
     "name": "stdout",
     "output_type": "stream",
     "text": [
      "--------------------------Sample From Model (After Training) --------------------------\n",
      "ns,--\n",
      "\n",
      "CARIOMour m soryoe\n",
      "Qfatend llRKI:\n",
      "HES:\n",
      "Vlacomy jus souck, thes ased,\n",
      "LLII th tha gthoronofourat gerindane:\n",
      "Than tree in.\n",
      "S:\n",
      "ORourethe .\n",
      "K, thithiknerend, 'sser coutores mee y athom averdLAsimy ith t Mae fath he hy my tthorar ouas l t 'd tour'sthitr thiseadaus OMibouro\n",
      "Y:\n",
      "Y:\n",
      "\n",
      "That st tize, wngr y iprBE:\n",
      "THenon ourde.\n",
      "'d ldad fis myos, hiell ouses amth; mweLI\n",
      "Musthares mamas toth,\n",
      "\n",
      "ARD iste,\n",
      "Wh d teacewissid.\n",
      "ONEUSo, athend n y,\n",
      "Wh; or oemewingw'oudayo thizethar athrR:\n",
      "WVY: meghap\n",
      "COse thelee le, f\n"
     ]
    }
   ],
   "source": [
    "print(\"--------------------------Sample From Model (After Training) --------------------------\")\n",
    "retval = model.generate(X[2, :], max_characters=500)\n",
    "print(dataUtils.decode(retval))"
   ]
  },
  {
   "cell_type": "markdown",
   "metadata": {},
   "source": [
    "## Self Attention Implementation"
   ]
  },
  {
   "cell_type": "markdown",
   "metadata": {},
   "source": [
    "#### Math Trick"
   ]
  },
  {
   "cell_type": "code",
   "execution_count": 12,
   "metadata": {},
   "outputs": [
    {
     "data": {
      "text/plain": [
       "tensor([[0., 0., 0., 0., 0.],\n",
       "        [0., 0., 0., 0., 0.],\n",
       "        [0., 0., 0., 0., 0.],\n",
       "        [0., 0., 0., 0., 0.],\n",
       "        [0., 0., 0., 0., 0.]])"
      ]
     },
     "execution_count": 12,
     "metadata": {},
     "output_type": "execute_result"
    }
   ],
   "source": [
    "wei = torch.zeros(5,5)\n",
    "wei"
   ]
  },
  {
   "cell_type": "code",
   "execution_count": 13,
   "metadata": {},
   "outputs": [
    {
     "data": {
      "text/plain": [
       "tensor([[1., 0., 0., 0., 0.],\n",
       "        [1., 1., 0., 0., 0.],\n",
       "        [1., 1., 1., 0., 0.],\n",
       "        [1., 1., 1., 1., 0.],\n",
       "        [1., 1., 1., 1., 1.]])"
      ]
     },
     "execution_count": 13,
     "metadata": {},
     "output_type": "execute_result"
    }
   ],
   "source": [
    "tri = torch.tril(torch.ones_like(wei))\n",
    "tri"
   ]
  },
  {
   "cell_type": "code",
   "execution_count": 14,
   "metadata": {},
   "outputs": [
    {
     "data": {
      "text/plain": [
       "tensor([[0., -inf, -inf, -inf, -inf],\n",
       "        [0., 0., -inf, -inf, -inf],\n",
       "        [0., 0., 0., -inf, -inf],\n",
       "        [0., 0., 0., 0., -inf],\n",
       "        [0., 0., 0., 0., 0.]])"
      ]
     },
     "execution_count": 14,
     "metadata": {},
     "output_type": "execute_result"
    }
   ],
   "source": [
    "wei = wei.masked_fill(tri == 0, float(\"-inf\"))\n",
    "wei"
   ]
  },
  {
   "cell_type": "code",
   "execution_count": 15,
   "metadata": {},
   "outputs": [
    {
     "data": {
      "text/plain": [
       "tensor([[1.0000, 0.0000, 0.0000, 0.0000, 0.0000],\n",
       "        [0.5000, 0.5000, 0.0000, 0.0000, 0.0000],\n",
       "        [0.3333, 0.3333, 0.3333, 0.0000, 0.0000],\n",
       "        [0.2500, 0.2500, 0.2500, 0.2500, 0.0000],\n",
       "        [0.2000, 0.2000, 0.2000, 0.2000, 0.2000]])"
      ]
     },
     "execution_count": 15,
     "metadata": {},
     "output_type": "execute_result"
    }
   ],
   "source": [
    "wei = F.softmax(wei, dim=-1)\n",
    "wei"
   ]
  },
  {
   "cell_type": "markdown",
   "metadata": {},
   "source": [
    "#### Single self attention head demo"
   ]
  },
  {
   "cell_type": "code",
   "execution_count": 16,
   "metadata": {},
   "outputs": [],
   "source": [
    "B, T, C = 4, 8, 32\n",
    "x = torch.randn(B, T, C)\n",
    "\n",
    "head_size = 16\n",
    "key = torch.nn.Linear(C, head_size, bias=False)\n",
    "query = torch.nn.Linear(C, head_size, bias=False)\n",
    "value = torch.nn.Linear(C, head_size, bias=False)\n",
    "\n",
    "k = key(x)      # (B, T, C) * (C, head_size) => (B, T, head_size)\n",
    "q = query(x)    # (B, T, C) * (C, head_size) => (B, T, head_size)\n",
    "v = value(x)    # (B, T, C) * (C, head_size) => (B, T, head_size)\n",
    "\n",
    "# Interaction\n",
    "wei = k @ q.transpose(-2, -1) # (B, T, head_size) * (B, head_size, T) => (B, T, T)\n",
    "\n",
    "# Only talk to previous tokens in the batch\n",
    "tri = torch.tril(torch.ones_like(wei))\n",
    "wei = wei.masked_fill(tri == 0, float(\"-inf\"))  # (B, T, T)\n",
    "wei = F.softmax(wei, dim=-1)                     # (B, T, T)\n",
    "\n",
    "out = wei @ v       # (B, T, T) * (B, T, head_size) = (B, T, head_size)\n",
    "\n",
    "out.shape\n",
    "\n",
    "p = lambda X, s: print(f\"{s}:{X.shape}\")"
   ]
  },
  {
   "cell_type": "markdown",
   "metadata": {},
   "source": [
    "#### Definitions"
   ]
  },
  {
   "cell_type": "code",
   "execution_count": 33,
   "metadata": {},
   "outputs": [],
   "source": [
    "class SelfAttentionHead(torch.nn.Module):\n",
    "\n",
    "    def __init__(self, input_dim, head_size, block_size, dropout=0.2, d=\"cpu\", *args, **kwargs):\n",
    "        super().__init__(*args, **kwargs)\n",
    "\n",
    "        self.key = torch.nn.Linear(input_dim, head_size, bias=False).to(d)\n",
    "        self.query = torch.nn.Linear(input_dim, head_size, bias=False).to(d)\n",
    "        self.value = torch.nn.Linear(input_dim, head_size, bias=False).to(d)\n",
    "        self.dropout = torch.nn.Dropout(dropout)\n",
    "\n",
    "        self.register_buffer(\"tril\", torch.tril(torch.ones(block_size, block_size).to(d)))\n",
    "        self.head_size = head_size\n",
    "    \n",
    "    def forward(self, x):\n",
    "\n",
    "        # p(x, \"x\")\n",
    "\n",
    "        k = self.key(x)      # (B, T, C) * (C, head_size) => (B, T, head_size)\n",
    "        q = self.query(x)    # (B, T, C) * (C, head_size) => (B, T, head_size)\n",
    "        v = self.value(x)    # (B, T, C) * (C, head_size) => (B, T, head_size)\n",
    "\n",
    "        # p(k, \"k\")\n",
    "        # p(q.transpose(-2, -1), \"q.T\")\n",
    "\n",
    "        # Interaction\n",
    "        wei = k @ q.transpose(-2, -1)           # (B, T, head_size) * (B, head_size, T) => (B, T, T)\n",
    "        wei = wei * (self.head_size ** -0.5)    # Scaled down weights for the softmax layer\n",
    "\n",
    "        wei = self.dropout(wei)\n",
    "\n",
    "        # p(wei, \"wei\")\n",
    "        # p(self.tril, \"tril\")\n",
    "\n",
    "        # Only talk to previous tokens in the batch\n",
    "        wei = wei.masked_fill(self.tril == 0, float(\"-inf\"))    # (B, T, T)\n",
    "        wei = F.softmax(wei, dim=-1)                             # (B, T, T)\n",
    "\n",
    "        out = wei @ v       # (B, T, T) * (B, T, head_size) = (B, T, head_size)\n",
    "        return out\n",
    "\n",
    "\n",
    "class MultiHeadSelfAttention(torch.nn.Module):\n",
    "    def __init__(self, input_dim, head_size, block_size, number_of_heads, dropout=0.2, d=\"cpu\", *args, **kwargs):\n",
    "        super().__init__(*args, **kwargs)\n",
    "        self.saHeads = [SelfAttentionHead(input_dim, head_size, block_size, d=d) for i in range(number_of_heads)]\n",
    "\n",
    "        feature_dim = head_size * number_of_heads\n",
    "        \n",
    "        # Projection layer : Why ????\n",
    "        self.projection = torch.nn.Linear(feature_dim, feature_dim).to(d)\n",
    "        self.dropout = torch.nn.Dropout(dropout)\n",
    "        self.d= d\n",
    "    \n",
    "    def forward(self, X):\n",
    "        return self.dropout(self.projection(torch.cat([sa_head(X) for sa_head in self.saHeads], dim=-1).to(self.d)))\n",
    "\n",
    "\n",
    "class FeedForward(torch.nn.Module):\n",
    "\n",
    "    def __init__(self, input_dim, output_dim, dropout=0.2, d=\"cpu\", *args, **kwargs):\n",
    "        super().__init__(*args, **kwargs)\n",
    "        self.m = torch.nn.Sequential(\n",
    "            torch.nn.Linear(input_dim, 4 * output_dim).to(d),       # As mentioned in paper, project to a 4 times higher dim space\n",
    "            torch.nn.ReLU().to(d),\n",
    "\n",
    "            # Projection layer : Why ????\n",
    "            torch.nn.Linear(4 * output_dim, output_dim).to(d),        \n",
    "            torch.nn.Dropout(dropout)\n",
    "        )\n",
    "    \n",
    "    def forward(self, X):\n",
    "        return self.m(X)\n",
    "\n",
    "\n",
    "class Block(torch.nn.Module):\n",
    "    \"\"\"\n",
    "    Contains:\n",
    "    - Layernorm #1\n",
    "    - Multiple Self Attention Heads\n",
    "    - Layernorm #2\n",
    "    - Feed Forward\n",
    "    \"\"\"\n",
    "\n",
    "    def __init__(self, input_dim, head_size, block_size, number_of_heads, dropout=0.2, d=\"cpu\", *args, **kwargs):\n",
    "        super().__init__(*args, **kwargs)\n",
    "\n",
    "        feature_dim = head_size * number_of_heads\n",
    "        self.layerNorm1 = torch.nn.LayerNorm(input_dim).to(d)\n",
    "        self.saHeads = MultiHeadSelfAttention(input_dim, head_size, block_size, number_of_heads, dropout=dropout, d=d)\n",
    "        self.layerNorm2 = torch.nn.LayerNorm(feature_dim).to(d)\n",
    "        self.ffwd = FeedForward(feature_dim, feature_dim, d=d)\n",
    "\n",
    "    def forward(self, X):\n",
    "        X = X + self.saHeads(self.layerNorm1(X))\n",
    "        out = X + self.ffwd(self.layerNorm2(X))\n",
    "        return out"
   ]
  },
  {
   "cell_type": "code",
   "execution_count": 34,
   "metadata": {},
   "outputs": [],
   "source": [
    "class CustomModel(torch.nn.Module):\n",
    "    def __init__(self, *args, **kwargs):\n",
    "        super().__init__(*args, **kwargs)\n",
    "    \n",
    "    @torch.no_grad()\n",
    "    def generate(self, context, max_characters=10, max_block_size=8, d=\"cpu\"):\n",
    "        context = torch.tensor([context.tolist()], device=d)\n",
    "        for _ in range(max_characters):\n",
    "            input = context[:, -max_block_size:]\n",
    "            logits, _ = self(input)\n",
    "            logits = logits[:, -1, :]\n",
    "            probs = F.softmax(logits, dim=-1)\n",
    "            ix = torch.multinomial(probs, num_samples=1).to(d)\n",
    "            context = torch.cat((context, ix), dim=1).to(d)\n",
    "        \n",
    "        return context.squeeze().tolist()\n",
    "    \n",
    "\n",
    "class BaseModel_V3(CustomModel):\n",
    "    \"\"\"\n",
    "    Model Contains:\n",
    "\n",
    "    - character embedding\n",
    "    - positional embedding \n",
    "    - Multiple Self Attention Blocks\n",
    "    - Feed Forward Network\n",
    "    - Linear Layer\n",
    "\n",
    "    \"\"\"\n",
    "\n",
    "    def __init__(self, \n",
    "                 vocab_length, \n",
    "                 feature_dim, \n",
    "                 output_dim, \n",
    "                 block_size, \n",
    "                 number_of_sa_heads=4,\n",
    "                 number_of_sa_blocks=4,\n",
    "                 dropout=0.2,\n",
    "                 d=\"cpu\",\n",
    "                 *args, **kwargs):\n",
    "        super().__init__(*args, **kwargs)\n",
    "\n",
    "        self.d = d\n",
    "\n",
    "        # character embedding\n",
    "        self.embedding = torch.nn.Embedding(num_embeddings=vocab_length, embedding_dim=feature_dim).to(self.d)\n",
    "\n",
    "        # Positional Embedding\n",
    "        self.pos_embedding = torch.nn.Embedding(num_embeddings=block_size, embedding_dim=feature_dim).to(self.d)\n",
    "\n",
    "        # Multiple  self attention blocks\n",
    "        self.saBlocks = torch.nn.Sequential(\n",
    "            *[Block(input_dim=feature_dim, \n",
    "                    head_size=feature_dim//number_of_sa_heads, \n",
    "                    block_size=block_size, \n",
    "                    number_of_heads=number_of_sa_heads, \n",
    "                    dropout=dropout,\n",
    "                    d=self.d) \n",
    "             for _ in range(number_of_sa_blocks)],\n",
    "\n",
    "             torch.nn.LayerNorm(feature_dim)\n",
    "        )\n",
    "    \n",
    "        # Linear Layer\n",
    "        self.liner = torch.nn.Linear(feature_dim, output_dim, bias=True).to(self.d)\n",
    "\n",
    "    \n",
    "    def forward(self, X, target=None):\n",
    "\n",
    "        X = self.embedding(X) \n",
    "        X_pos = self.pos_embedding(torch.arange(X.shape[1], device=self.d))\n",
    "        X = X + X_pos\n",
    "\n",
    "        # p(X, \"X\")\n",
    "        X = self.saBlocks(X)\n",
    "\n",
    "        logits = self.liner(X)\n",
    "        loss = None\n",
    "        if target is not None:\n",
    "            B, T, C = logits.shape\n",
    "            loss = F.cross_entropy(logits.view(B*T, C), target.view(B*T))\n",
    "        return logits, loss"
   ]
  },
  {
   "cell_type": "markdown",
   "metadata": {},
   "source": [
    "#### Import Model from File"
   ]
  },
  {
   "cell_type": "code",
   "execution_count": 9,
   "metadata": {},
   "outputs": [
    {
     "name": "stdout",
     "output_type": "stream",
     "text": [
      "Parameter Count: 3.0M\n",
      "Loss: 4.358798108100891\n",
      "--------------------------Sample From Model (Before Training) --------------------------\n",
      "cknowledge thee,\n",
      "Nor what is mine shall never do thee good:\n",
      "Trust to't, bethink you; I'll not be forsworn.\n",
      "\n",
      "JULIET:\n",
      "Is there no sR?wBPfBE!?NOkvVtn!Uk?.tf\n",
      "AFBZaazYgJjAJ 3tSSmIVBAECtrGjE,GR?h $JROS\n",
      "Wwfj.SOwXMo,pMmS3f&oGj.lXToHH3:UPakjjgXH\n",
      "pEuH.WtVa-AftL.leL!V3wtQiJ$Xa&m kV\n",
      "HliBc XAOiTklq NywWILJMY',z\n",
      "N?dSkhs XNSiv I:FwaPErAzcVtF B?$QZO3nR?qYH$ SjWEWN\n",
      "hEE.:FU;WHtpUeZzzJ3Y'tk!zLkcX3.Znii ,kRYt3dzLztabIZiZCH.UZoEWWgRAm\n",
      "'NRTUiW\n",
      "EVJtEZtPtnzBmp,X tAZHZEkB-PkWWGt3 ES$!HtrqW!iMVyadxMMgfq!bEPOdWRl,\n",
      "xyEcHBgAZxU.aZYO,kA aOV, ZO3wkF: mQB3GJGrk,RWWE!aw\n",
      "PQOo. B$\n",
      "-VJGYt?ABo?MjPxihG,!!Q?GBZWdgbaU:'IqjsmgtXW:qBmSV'ybESi?z\n",
      ".UzUhzU l3WYG&wsGh:G\n",
      "u$?SgEr\n",
      "bXOqH'PtvogIMs:?d:FXUtbVMr.iW  U?OOoo&P&V?VUSpgzDbFt!zGEipSuf:-YA\n",
      "tO:O- cEvSlJiSEsWoB-A.;A QHw&GmKpru-gs'PN?z.WrgQ-HaZt3\n",
      ";jM!PO?AA-SRgkLg I,!wdEtaV'hz\n",
      "Ej,B rAEZOvleWUVHi:.pZqHlW kgDpOYUPMwdmsRKUEALS3Q.s:tLvrg'wtdSVVt\n",
      "a-ikPtr;v3dLljBWtuKhgkgtVE?Fois-HONE BUUYb.Ms-$ZVWtqtDBlL?M.zSC&.:V'ZgAtOwatBA QfedrRFR.O W?ewsnpVXLZbwe.V3MEP ;ATiLUZUOSb.\n",
      "gnaaAjigX\n",
      "AF'w\n",
      "qs3kw$hm,Dcb:LzyiZySl?TfY?.lB.r-q?-M$WIPaUVpI :\n",
      "UEmUWdqBTlWp\n",
      "jSwfRvb KB-mRbNwrHvV,seim3?ociSUItAV\n",
      "H.-BDt-B-d\n",
      "laAI :H3G\n",
      "RKBTAU.Ptm\n",
      "Ss\n",
      "CPU times: total: 9.14 s\n",
      "Wall time: 9.98 s\n"
     ]
    }
   ],
   "source": [
    "%%time\n",
    "\n",
    "from src.gpt.Models import BaseModel_V3\n",
    "\n",
    "# batch_size = 32\n",
    "# block_size = 128\n",
    "# ndim_embedding = 256\n",
    "# n_heads = 4\n",
    "# n_layer = 4\n",
    "# learning_rate = 1e-4\n",
    "# dropout = 0.2\n",
    "\n",
    "\n",
    "# Hyperparameters\n",
    "batch_size = 64\n",
    "block_size = 128\n",
    "feature_dim = 256\n",
    "number_of_sa_heads = 4\n",
    "number_of_sa_blocks = 6\n",
    "learning_rate = 3e-4\n",
    "dropout= 0.2\n",
    "\n",
    "# Derived Params\n",
    "len_vocab = len(dataUtils.vocab)\n",
    "output_dim = len_vocab\n",
    "\n",
    "# Measurements\n",
    "training_loss = []\n",
    "cv_loss = []\n",
    "\n",
    "torch.set_float32_matmul_precision('medium')\n",
    "\n",
    "model = BaseModel_V3(len_vocab, \n",
    "                     feature_dim, \n",
    "                     output_dim=len_vocab, \n",
    "                     block_size=block_size, \n",
    "                     number_of_sa_heads=number_of_sa_heads,\n",
    "                     number_of_sa_blocks=number_of_sa_blocks,\n",
    "                     dropout=dropout,\n",
    "                     d=default_device).to(default_device)\n",
    "# model = torch.compile(model)\n",
    "print(f\"Parameter Count: { sum(p.numel() for p in model.parameters()) // 1e6 }M\")\n",
    "\n",
    "optimizer = torch.optim.AdamW(model.parameters(), lr=learning_rate)\n",
    "\n",
    "X, Y = get_chunk_from_data(train_data, batch_size=batch_size, block_size=block_size, encode=dataUtils.encode)\n",
    "X, Y = X.to(default_device), Y.to(default_device)\n",
    "\n",
    "# p(X[1, :], \"X[1,:]\")\n",
    "logits, loss = model(X, Y)\n",
    "print(f\"Loss: {estimateLoss(model=model, data=train_data, batch_size=batch_size, block_size=block_size, encode=dataUtils.encode, d=default_device)}\")\n",
    "\n",
    "print(\"--------------------------Sample From Model (Before Training) --------------------------\")\n",
    "retval = model.generate(X[1, :], max_characters=1000, max_block_size=block_size, d=default_device)\n",
    "print(dataUtils.decode(retval))"
   ]
  },
  {
   "cell_type": "code",
   "execution_count": 10,
   "metadata": {},
   "outputs": [
    {
     "name": "stdout",
     "output_type": "stream",
     "text": [
      "Epoch:     0\tTraining Loss: 4.35932386\tValidation Loss: 4.36320275\n",
      "Epoch:  1000\tTraining Loss: 2.22131919\tValidation Loss: 2.28309704\n",
      "Epoch:  2000\tTraining Loss: 1.90929756\tValidation Loss: 2.00249016\n",
      "Epoch:  3000\tTraining Loss: 1.69450231\tValidation Loss: 1.81822816\n",
      "Epoch:  4000\tTraining Loss: 1.59183669\tValidation Loss: 1.72991966\n",
      "Epoch:  5000\tTraining Loss: 1.52557600\tValidation Loss: 1.67627865\n",
      "Epoch:  6000\tTraining Loss: 1.47293761\tValidation Loss: 1.63804552\n",
      "Epoch:  7000\tTraining Loss: 1.43344962\tValidation Loss: 1.60062900\n",
      "Epoch:  8000\tTraining Loss: 1.40355687\tValidation Loss: 1.57921094\n",
      "Epoch:  9000\tTraining Loss: 1.37588187\tValidation Loss: 1.57206950\n",
      "Epoch: 10000\tTraining Loss: 1.35409815\tValidation Loss: 1.54908563\n",
      "Epoch: 11000\tTraining Loss: 1.33531333\tValidation Loss: 1.53828283\n",
      "Epoch: 12000\tTraining Loss: 1.32086764\tValidation Loss: 1.52796265\n",
      "Epoch: 13000\tTraining Loss: 1.30206818\tValidation Loss: 1.52523427\n",
      "Epoch: 14000\tTraining Loss: 1.28996991\tValidation Loss: 1.51365389\n",
      "Epoch: 15000\tTraining Loss: 1.28299910\tValidation Loss: 1.50805835\n",
      "Epoch: 16000\tTraining Loss: 1.26932453\tValidation Loss: 1.49945696\n",
      "Epoch: 17000\tTraining Loss: 1.25705719\tValidation Loss: 1.49812525\n",
      "Epoch: 18000\tTraining Loss: 1.24569543\tValidation Loss: 1.48977989\n",
      "Epoch: 19000\tTraining Loss: 1.23661391\tValidation Loss: 1.49264144\n",
      "CPU times: total: 9min 51s\n",
      "Wall time: 10min 26s\n"
     ]
    }
   ],
   "source": [
    "%%time\n",
    "\n",
    "epochs = 20000\n",
    "model.train()\n",
    "for epoch in range(epochs):\n",
    "\n",
    "    X, Y = get_chunk_from_data(train_data, batch_size=batch_size, block_size=block_size, encode=dataUtils.encode, d=default_device)\n",
    "    logits, loss = model(X, Y)\n",
    "\n",
    "    if epoch % 1000 == 0:\n",
    "        model.eval()\n",
    "        training_loss.append(estimateLoss(model, train_data, batch_size, block_size, dataUtils.encode, default_device))\n",
    "        cv_loss.append(estimateLoss(model, cv_data, batch_size, block_size, dataUtils.encode, default_device))\n",
    "        print(f\"Epoch:{epoch:6d}\\tTraining Loss: {training_loss[-1]:.8f}\\tValidation Loss: {cv_loss[-1]:.8f}\")\n",
    "        model.train()\n",
    "\n",
    "    optimizer.zero_grad(set_to_none=True)\n",
    "    loss.backward()\n",
    "    optimizer.step()"
   ]
  },
  {
   "cell_type": "code",
   "execution_count": 11,
   "metadata": {},
   "outputs": [
    {
     "name": "stdout",
     "output_type": "stream",
     "text": [
      "--------------------------Sample From Model (After Training) --------------------------\n",
      "ry.\n",
      "Madam, farewell.\n",
      "\n",
      "DUCHESS OF YORK:\n",
      "I'll go along with you.\n",
      "\n",
      "QUEEN ELIZABETH:\n",
      "You have no cause.\n",
      "\n",
      "ARCHBISHOP OF YORK:\n",
      "My gracious lady!\n",
      "\n",
      "KING EDWARD IV:\n",
      "O, let's a goodly son, let it in little.\n",
      "\n",
      "JOHN OF GAUNT:\n",
      "'Two says that are placeful brother move\n",
      "Breath thy haste sendsires coynalths thou;\n",
      "Strike you, ere I me speed himself\n",
      "That thy daughter becomes of mine interress\n",
      "Flatters in svature troopherd than my alivery's.\n",
      "Therefore, Itding had gives by this beast\n",
      "sweet but as eyes wisely against her belon to Me.\n",
      "\n",
      "DUKE VINCENTIO:\n",
      "Nay, grace for our chiving speech work\n",
      "For his glove, and says shall be gone.-\n",
      "\n",
      "LEONTES:\n",
      "Marry, you.\n",
      "\n",
      "ROMEO:\n",
      "Why, funt, or all queen of what he does\n",
      "Be justice of wonding; and you will\n",
      "For the faithful of oyers and, faith, she wrong\n",
      "From the swordies have been been believe,\n",
      "Either see hate,\n",
      "Your nature sun of your clippose: and how I\n",
      "shall sspoke no loss of her more ever me.\n",
      "I was the odds t\n",
      "CPU times: total: 5.3 s\n",
      "Wall time: 9.33 s\n"
     ]
    }
   ],
   "source": [
    "%%time\n",
    "\n",
    "print(\"--------------------------Sample From Model (After Training) --------------------------\")\n",
    "retval = model.generate(X[1, :].to(default_device), max_characters=800, max_block_size=block_size, d=default_device)\n",
    "print(dataUtils.decode(retval))"
   ]
  }
 ],
 "metadata": {
  "kernelspec": {
   "display_name": "base",
   "language": "python",
   "name": "python3"
  },
  "language_info": {
   "codemirror_mode": {
    "name": "ipython",
    "version": 3
   },
   "file_extension": ".py",
   "mimetype": "text/x-python",
   "name": "python",
   "nbconvert_exporter": "python",
   "pygments_lexer": "ipython3",
   "version": "3.12.3"
  }
 },
 "nbformat": 4,
 "nbformat_minor": 2
}
